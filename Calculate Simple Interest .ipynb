{
 "cells": [
  {
   "cell_type": "code",
   "execution_count": null,
   "id": "ca46d909",
   "metadata": {},
   "outputs": [],
   "source": [
    "P=int(input(\"Enter the Principal Amount : \"))\n",
    "T=int(input(\"Enter the Time : \"))\n",
    "R=int(input(\"Enter the Rate : \"))\n",
    "\n",
    "simple_interest=(P*T*R)/100\n",
    "\n",
    "print(simple_interest)"
   ]
  },
  {
   "cell_type": "code",
   "execution_count": null,
   "id": "212c3d77",
   "metadata": {},
   "outputs": [],
   "source": []
  }
 ],
 "metadata": {
  "kernelspec": {
   "display_name": "Python 3 (ipykernel)",
   "language": "python",
   "name": "python3"
  },
  "language_info": {
   "codemirror_mode": {
    "name": "ipython",
    "version": 3
   },
   "file_extension": ".py",
   "mimetype": "text/x-python",
   "name": "python",
   "nbconvert_exporter": "python",
   "pygments_lexer": "ipython3",
   "version": "3.9.12"
  }
 },
 "nbformat": 4,
 "nbformat_minor": 5
}
